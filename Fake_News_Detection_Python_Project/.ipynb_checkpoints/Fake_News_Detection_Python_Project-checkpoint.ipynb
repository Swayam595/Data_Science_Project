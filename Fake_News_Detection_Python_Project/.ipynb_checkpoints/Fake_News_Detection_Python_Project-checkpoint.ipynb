{
 "cells": [
  {
   "cell_type": "markdown",
   "id": "f582b274",
   "metadata": {},
   "source": [
    "# Project Dependencies"
   ]
  },
  {
   "cell_type": "code",
   "execution_count": 1,
   "id": "7c56dec5",
   "metadata": {},
   "outputs": [],
   "source": [
    "import pandas as pd\n",
    "import seaborn as sns\n",
    "import matplotlib.pyplot as plt\n",
    "from sklearn.model_selection import train_test_split\n",
    "from sklearn.feature_extraction.text import TfidfVectorizer\n",
    "from sklearn.linear_model import PassiveAggressiveClassifier\n",
    "from sklearn.metrics import accuracy_score, confusion_matrix, classification_report"
   ]
  },
  {
   "cell_type": "markdown",
   "id": "842fa359",
   "metadata": {},
   "source": [
    "# Loading the dataset"
   ]
  },
  {
   "cell_type": "code",
   "execution_count": 2,
   "id": "a4bbdfe6",
   "metadata": {},
   "outputs": [],
   "source": [
    "train = pd.read_csv('train.csv')\n",
    "test = pd.read_csv('test.csv')\n",
    "test = test.set_index('id', drop = True)"
   ]
  },
  {
   "cell_type": "markdown",
   "id": "d67ec09b",
   "metadata": {},
   "source": [
    "# Data Exploration & Data Cleaning"
   ]
  },
  {
   "cell_type": "markdown",
   "id": "0d949020",
   "metadata": {},
   "source": [
    "## Counting number of rows and columns in the data\n",
    "### Shape of Training Data"
   ]
  },
  {
   "cell_type": "code",
   "execution_count": 3,
   "id": "8dd9fc8e",
   "metadata": {},
   "outputs": [
    {
     "data": {
      "text/plain": [
       "(20800, 5)"
      ]
     },
     "execution_count": 3,
     "metadata": {},
     "output_type": "execute_result"
    }
   ],
   "source": [
    "train.shape"
   ]
  },
  {
   "cell_type": "markdown",
   "id": "3d2eb09b",
   "metadata": {},
   "source": [
    "## Getting a hang of the data in each column and their names"
   ]
  },
  {
   "cell_type": "markdown",
   "id": "91f0b84a",
   "metadata": {},
   "source": [
    "### TRAINING DATASET"
   ]
  },
  {
   "cell_type": "code",
   "execution_count": 4,
   "id": "0935abe9",
   "metadata": {},
   "outputs": [
    {
     "data": {
      "text/html": [
       "<div>\n",
       "<style scoped>\n",
       "    .dataframe tbody tr th:only-of-type {\n",
       "        vertical-align: middle;\n",
       "    }\n",
       "\n",
       "    .dataframe tbody tr th {\n",
       "        vertical-align: top;\n",
       "    }\n",
       "\n",
       "    .dataframe thead th {\n",
       "        text-align: right;\n",
       "    }\n",
       "</style>\n",
       "<table border=\"1\" class=\"dataframe\">\n",
       "  <thead>\n",
       "    <tr style=\"text-align: right;\">\n",
       "      <th></th>\n",
       "      <th>id</th>\n",
       "      <th>title</th>\n",
       "      <th>author</th>\n",
       "      <th>text</th>\n",
       "      <th>label</th>\n",
       "    </tr>\n",
       "  </thead>\n",
       "  <tbody>\n",
       "    <tr>\n",
       "      <th>count</th>\n",
       "      <td>20800.000000</td>\n",
       "      <td>20242</td>\n",
       "      <td>18843</td>\n",
       "      <td>20761</td>\n",
       "      <td>20800.000000</td>\n",
       "    </tr>\n",
       "    <tr>\n",
       "      <th>unique</th>\n",
       "      <td>NaN</td>\n",
       "      <td>19803</td>\n",
       "      <td>4201</td>\n",
       "      <td>20386</td>\n",
       "      <td>NaN</td>\n",
       "    </tr>\n",
       "    <tr>\n",
       "      <th>top</th>\n",
       "      <td>NaN</td>\n",
       "      <td>The Dark Agenda Behind Globalism And Open Borders</td>\n",
       "      <td>Pam Key</td>\n",
       "      <td></td>\n",
       "      <td>NaN</td>\n",
       "    </tr>\n",
       "    <tr>\n",
       "      <th>freq</th>\n",
       "      <td>NaN</td>\n",
       "      <td>5</td>\n",
       "      <td>243</td>\n",
       "      <td>75</td>\n",
       "      <td>NaN</td>\n",
       "    </tr>\n",
       "    <tr>\n",
       "      <th>mean</th>\n",
       "      <td>10399.500000</td>\n",
       "      <td>NaN</td>\n",
       "      <td>NaN</td>\n",
       "      <td>NaN</td>\n",
       "      <td>0.500625</td>\n",
       "    </tr>\n",
       "    <tr>\n",
       "      <th>std</th>\n",
       "      <td>6004.587135</td>\n",
       "      <td>NaN</td>\n",
       "      <td>NaN</td>\n",
       "      <td>NaN</td>\n",
       "      <td>0.500012</td>\n",
       "    </tr>\n",
       "    <tr>\n",
       "      <th>min</th>\n",
       "      <td>0.000000</td>\n",
       "      <td>NaN</td>\n",
       "      <td>NaN</td>\n",
       "      <td>NaN</td>\n",
       "      <td>0.000000</td>\n",
       "    </tr>\n",
       "    <tr>\n",
       "      <th>25%</th>\n",
       "      <td>5199.750000</td>\n",
       "      <td>NaN</td>\n",
       "      <td>NaN</td>\n",
       "      <td>NaN</td>\n",
       "      <td>0.000000</td>\n",
       "    </tr>\n",
       "    <tr>\n",
       "      <th>50%</th>\n",
       "      <td>10399.500000</td>\n",
       "      <td>NaN</td>\n",
       "      <td>NaN</td>\n",
       "      <td>NaN</td>\n",
       "      <td>1.000000</td>\n",
       "    </tr>\n",
       "    <tr>\n",
       "      <th>75%</th>\n",
       "      <td>15599.250000</td>\n",
       "      <td>NaN</td>\n",
       "      <td>NaN</td>\n",
       "      <td>NaN</td>\n",
       "      <td>1.000000</td>\n",
       "    </tr>\n",
       "    <tr>\n",
       "      <th>max</th>\n",
       "      <td>20799.000000</td>\n",
       "      <td>NaN</td>\n",
       "      <td>NaN</td>\n",
       "      <td>NaN</td>\n",
       "      <td>1.000000</td>\n",
       "    </tr>\n",
       "  </tbody>\n",
       "</table>\n",
       "</div>"
      ],
      "text/plain": [
       "                  id                                              title  \\\n",
       "count   20800.000000                                              20242   \n",
       "unique           NaN                                              19803   \n",
       "top              NaN  The Dark Agenda Behind Globalism And Open Borders   \n",
       "freq             NaN                                                  5   \n",
       "mean    10399.500000                                                NaN   \n",
       "std      6004.587135                                                NaN   \n",
       "min         0.000000                                                NaN   \n",
       "25%      5199.750000                                                NaN   \n",
       "50%     10399.500000                                                NaN   \n",
       "75%     15599.250000                                                NaN   \n",
       "max     20799.000000                                                NaN   \n",
       "\n",
       "         author   text         label  \n",
       "count     18843  20761  20800.000000  \n",
       "unique     4201  20386           NaN  \n",
       "top     Pam Key                  NaN  \n",
       "freq        243     75           NaN  \n",
       "mean        NaN    NaN      0.500625  \n",
       "std         NaN    NaN      0.500012  \n",
       "min         NaN    NaN      0.000000  \n",
       "25%         NaN    NaN      0.000000  \n",
       "50%         NaN    NaN      1.000000  \n",
       "75%         NaN    NaN      1.000000  \n",
       "max         NaN    NaN      1.000000  "
      ]
     },
     "execution_count": 4,
     "metadata": {},
     "output_type": "execute_result"
    }
   ],
   "source": [
    "train.describe(include='all')"
   ]
  },
  {
   "cell_type": "code",
   "execution_count": 5,
   "id": "a56a0d69",
   "metadata": {},
   "outputs": [
    {
     "data": {
      "text/html": [
       "<div>\n",
       "<style scoped>\n",
       "    .dataframe tbody tr th:only-of-type {\n",
       "        vertical-align: middle;\n",
       "    }\n",
       "\n",
       "    .dataframe tbody tr th {\n",
       "        vertical-align: top;\n",
       "    }\n",
       "\n",
       "    .dataframe thead th {\n",
       "        text-align: right;\n",
       "    }\n",
       "</style>\n",
       "<table border=\"1\" class=\"dataframe\">\n",
       "  <thead>\n",
       "    <tr style=\"text-align: right;\">\n",
       "      <th></th>\n",
       "      <th>id</th>\n",
       "      <th>title</th>\n",
       "      <th>author</th>\n",
       "      <th>text</th>\n",
       "      <th>label</th>\n",
       "    </tr>\n",
       "  </thead>\n",
       "  <tbody>\n",
       "    <tr>\n",
       "      <th>0</th>\n",
       "      <td>0</td>\n",
       "      <td>House Dem Aide: We Didn’t Even See Comey’s Let...</td>\n",
       "      <td>Darrell Lucus</td>\n",
       "      <td>House Dem Aide: We Didn’t Even See Comey’s Let...</td>\n",
       "      <td>1</td>\n",
       "    </tr>\n",
       "    <tr>\n",
       "      <th>1</th>\n",
       "      <td>1</td>\n",
       "      <td>FLYNN: Hillary Clinton, Big Woman on Campus - ...</td>\n",
       "      <td>Daniel J. Flynn</td>\n",
       "      <td>Ever get the feeling your life circles the rou...</td>\n",
       "      <td>0</td>\n",
       "    </tr>\n",
       "    <tr>\n",
       "      <th>2</th>\n",
       "      <td>2</td>\n",
       "      <td>Why the Truth Might Get You Fired</td>\n",
       "      <td>Consortiumnews.com</td>\n",
       "      <td>Why the Truth Might Get You Fired October 29, ...</td>\n",
       "      <td>1</td>\n",
       "    </tr>\n",
       "    <tr>\n",
       "      <th>3</th>\n",
       "      <td>3</td>\n",
       "      <td>15 Civilians Killed In Single US Airstrike Hav...</td>\n",
       "      <td>Jessica Purkiss</td>\n",
       "      <td>Videos 15 Civilians Killed In Single US Airstr...</td>\n",
       "      <td>1</td>\n",
       "    </tr>\n",
       "    <tr>\n",
       "      <th>4</th>\n",
       "      <td>4</td>\n",
       "      <td>Iranian woman jailed for fictional unpublished...</td>\n",
       "      <td>Howard Portnoy</td>\n",
       "      <td>Print \\nAn Iranian woman has been sentenced to...</td>\n",
       "      <td>1</td>\n",
       "    </tr>\n",
       "  </tbody>\n",
       "</table>\n",
       "</div>"
      ],
      "text/plain": [
       "   id                                              title              author  \\\n",
       "0   0  House Dem Aide: We Didn’t Even See Comey’s Let...       Darrell Lucus   \n",
       "1   1  FLYNN: Hillary Clinton, Big Woman on Campus - ...     Daniel J. Flynn   \n",
       "2   2                  Why the Truth Might Get You Fired  Consortiumnews.com   \n",
       "3   3  15 Civilians Killed In Single US Airstrike Hav...     Jessica Purkiss   \n",
       "4   4  Iranian woman jailed for fictional unpublished...      Howard Portnoy   \n",
       "\n",
       "                                                text  label  \n",
       "0  House Dem Aide: We Didn’t Even See Comey’s Let...      1  \n",
       "1  Ever get the feeling your life circles the rou...      0  \n",
       "2  Why the Truth Might Get You Fired October 29, ...      1  \n",
       "3  Videos 15 Civilians Killed In Single US Airstr...      1  \n",
       "4  Print \\nAn Iranian woman has been sentenced to...      1  "
      ]
     },
     "execution_count": 5,
     "metadata": {},
     "output_type": "execute_result"
    }
   ],
   "source": [
    "train.head()"
   ]
  },
  {
   "cell_type": "markdown",
   "id": "def50ede",
   "metadata": {},
   "source": [
    "### TEST DATASET"
   ]
  },
  {
   "cell_type": "code",
   "execution_count": 6,
   "id": "f6f4f793",
   "metadata": {},
   "outputs": [
    {
     "data": {
      "text/html": [
       "<div>\n",
       "<style scoped>\n",
       "    .dataframe tbody tr th:only-of-type {\n",
       "        vertical-align: middle;\n",
       "    }\n",
       "\n",
       "    .dataframe tbody tr th {\n",
       "        vertical-align: top;\n",
       "    }\n",
       "\n",
       "    .dataframe thead th {\n",
       "        text-align: right;\n",
       "    }\n",
       "</style>\n",
       "<table border=\"1\" class=\"dataframe\">\n",
       "  <thead>\n",
       "    <tr style=\"text-align: right;\">\n",
       "      <th></th>\n",
       "      <th>title</th>\n",
       "      <th>author</th>\n",
       "      <th>text</th>\n",
       "    </tr>\n",
       "  </thead>\n",
       "  <tbody>\n",
       "    <tr>\n",
       "      <th>count</th>\n",
       "      <td>5078</td>\n",
       "      <td>4697</td>\n",
       "      <td>5193</td>\n",
       "    </tr>\n",
       "    <tr>\n",
       "      <th>unique</th>\n",
       "      <td>5056</td>\n",
       "      <td>1732</td>\n",
       "      <td>5126</td>\n",
       "    </tr>\n",
       "    <tr>\n",
       "      <th>top</th>\n",
       "      <td>The Modern History of ‘Rigged’ US Elections</td>\n",
       "      <td>Pam Key</td>\n",
       "      <td></td>\n",
       "    </tr>\n",
       "    <tr>\n",
       "      <th>freq</th>\n",
       "      <td>2</td>\n",
       "      <td>65</td>\n",
       "      <td>31</td>\n",
       "    </tr>\n",
       "  </tbody>\n",
       "</table>\n",
       "</div>"
      ],
      "text/plain": [
       "                                              title   author  text\n",
       "count                                          5078     4697  5193\n",
       "unique                                         5056     1732  5126\n",
       "top     The Modern History of ‘Rigged’ US Elections  Pam Key      \n",
       "freq                                              2       65    31"
      ]
     },
     "execution_count": 6,
     "metadata": {},
     "output_type": "execute_result"
    }
   ],
   "source": [
    "test.describe(include='all')"
   ]
  },
  {
   "cell_type": "code",
   "execution_count": 7,
   "id": "65bc0817",
   "metadata": {},
   "outputs": [
    {
     "data": {
      "text/html": [
       "<div>\n",
       "<style scoped>\n",
       "    .dataframe tbody tr th:only-of-type {\n",
       "        vertical-align: middle;\n",
       "    }\n",
       "\n",
       "    .dataframe tbody tr th {\n",
       "        vertical-align: top;\n",
       "    }\n",
       "\n",
       "    .dataframe thead th {\n",
       "        text-align: right;\n",
       "    }\n",
       "</style>\n",
       "<table border=\"1\" class=\"dataframe\">\n",
       "  <thead>\n",
       "    <tr style=\"text-align: right;\">\n",
       "      <th></th>\n",
       "      <th>title</th>\n",
       "      <th>author</th>\n",
       "      <th>text</th>\n",
       "    </tr>\n",
       "    <tr>\n",
       "      <th>id</th>\n",
       "      <th></th>\n",
       "      <th></th>\n",
       "      <th></th>\n",
       "    </tr>\n",
       "  </thead>\n",
       "  <tbody>\n",
       "    <tr>\n",
       "      <th>20800</th>\n",
       "      <td>Specter of Trump Loosens Tongues, if Not Purse...</td>\n",
       "      <td>David Streitfeld</td>\n",
       "      <td>PALO ALTO, Calif.  —   After years of scorning...</td>\n",
       "    </tr>\n",
       "    <tr>\n",
       "      <th>20801</th>\n",
       "      <td>Russian warships ready to strike terrorists ne...</td>\n",
       "      <td>NaN</td>\n",
       "      <td>Russian warships ready to strike terrorists ne...</td>\n",
       "    </tr>\n",
       "    <tr>\n",
       "      <th>20802</th>\n",
       "      <td>#NoDAPL: Native American Leaders Vow to Stay A...</td>\n",
       "      <td>Common Dreams</td>\n",
       "      <td>Videos #NoDAPL: Native American Leaders Vow to...</td>\n",
       "    </tr>\n",
       "    <tr>\n",
       "      <th>20803</th>\n",
       "      <td>Tim Tebow Will Attempt Another Comeback, This ...</td>\n",
       "      <td>Daniel Victor</td>\n",
       "      <td>If at first you don’t succeed, try a different...</td>\n",
       "    </tr>\n",
       "    <tr>\n",
       "      <th>20804</th>\n",
       "      <td>Keiser Report: Meme Wars (E995)</td>\n",
       "      <td>Truth Broadcast Network</td>\n",
       "      <td>42 mins ago 1 Views 0 Comments 0 Likes 'For th...</td>\n",
       "    </tr>\n",
       "  </tbody>\n",
       "</table>\n",
       "</div>"
      ],
      "text/plain": [
       "                                                   title  \\\n",
       "id                                                         \n",
       "20800  Specter of Trump Loosens Tongues, if Not Purse...   \n",
       "20801  Russian warships ready to strike terrorists ne...   \n",
       "20802  #NoDAPL: Native American Leaders Vow to Stay A...   \n",
       "20803  Tim Tebow Will Attempt Another Comeback, This ...   \n",
       "20804                    Keiser Report: Meme Wars (E995)   \n",
       "\n",
       "                        author  \\\n",
       "id                               \n",
       "20800         David Streitfeld   \n",
       "20801                      NaN   \n",
       "20802            Common Dreams   \n",
       "20803            Daniel Victor   \n",
       "20804  Truth Broadcast Network   \n",
       "\n",
       "                                                    text  \n",
       "id                                                        \n",
       "20800  PALO ALTO, Calif.  —   After years of scorning...  \n",
       "20801  Russian warships ready to strike terrorists ne...  \n",
       "20802  Videos #NoDAPL: Native American Leaders Vow to...  \n",
       "20803  If at first you don’t succeed, try a different...  \n",
       "20804  42 mins ago 1 Views 0 Comments 0 Likes 'For th...  "
      ]
     },
     "execution_count": 7,
     "metadata": {},
     "output_type": "execute_result"
    }
   ],
   "source": [
    "test.head()"
   ]
  },
  {
   "cell_type": "markdown",
   "id": "875317e5",
   "metadata": {},
   "source": [
    "## Looking for any places where training data has NaN values"
   ]
  },
  {
   "cell_type": "code",
   "execution_count": 8,
   "id": "4c9b67c2",
   "metadata": {},
   "outputs": [
    {
     "name": "stdout",
     "output_type": "stream",
     "text": [
      "\n",
      " \n",
      "Number of Null values in Train Set:  39\n",
      "Number of Null values in Test Set:  7\n"
     ]
    }
   ],
   "source": [
    "print('\\n \\nNumber of Null values in Train Set: ', train['text'].isna().sum())\n",
    "print('Number of Null values in Test Set: ', test['text'].isna().sum())"
   ]
  },
  {
   "cell_type": "markdown",
   "id": "20f9e88e",
   "metadata": {},
   "source": [
    "## Dropping all rows where text column is NaN"
   ]
  },
  {
   "cell_type": "code",
   "execution_count": 9,
   "id": "18e25e6b",
   "metadata": {},
   "outputs": [],
   "source": [
    "train.dropna(axis=0, how=\"any\", thresh=None, subset=['text'], inplace=True)\n",
    "test = test.fillna(' ')"
   ]
  },
  {
   "cell_type": "markdown",
   "id": "4a6dcca1",
   "metadata": {},
   "source": [
    "## Checking length of each article"
   ]
  },
  {
   "cell_type": "code",
   "execution_count": 10,
   "id": "ea57127a",
   "metadata": {},
   "outputs": [
    {
     "name": "stdout",
     "output_type": "stream",
     "text": [
      "Minimum Length:  1 \n",
      "Maximum Length:  142961 \n",
      "Average Length:  4553\n"
     ]
    }
   ],
   "source": [
    "length = []\n",
    "\n",
    "for text in train['text']:\n",
    "    text_len = len(str(text))\n",
    "    length.append(text_len)\n",
    "    \n",
    "train['length'] = length\n",
    "\n",
    "print('Minimum Length: ', min(train['length']), \n",
    "      '\\nMaximum Length: ', max(train['length']), \n",
    "      '\\nAverage Length: ', round(sum(train['length'])/len(train['length'])))"
   ]
  },
  {
   "cell_type": "markdown",
   "id": "f3db3157",
   "metadata": {},
   "source": [
    "### Minimum length is 1. We need to spot some outliers and get rid of them. Counting how many outliers are there"
   ]
  },
  {
   "cell_type": "code",
   "execution_count": 11,
   "id": "fc9ec1cb",
   "metadata": {},
   "outputs": [
    {
     "name": "stdout",
     "output_type": "stream",
     "text": [
      "Number of articles with less than 50 words:  207\n"
     ]
    }
   ],
   "source": [
    "print('Number of articles with less than 50 words: ', len(train[train['length'] < 50]))"
   ]
  },
  {
   "cell_type": "markdown",
   "id": "3ccd6b1b",
   "metadata": {},
   "source": [
    "### Skimming through such short texts just to be sure"
   ]
  },
  {
   "cell_type": "code",
   "execution_count": 12,
   "id": "e1ef4bb7",
   "metadata": {},
   "outputs": [
    {
     "data": {
      "text/plain": [
       "82                                                   \n",
       "169                                                  \n",
       "173                                   Guest   Guest  \n",
       "196            They got the heater turned up on high.\n",
       "295                                                  \n",
       "                             ...                     \n",
       "20350                         I hope nobody got hurt!\n",
       "20418                                 Guest   Guest  \n",
       "20431    \\nOctober 28, 2016 The Mothers by stclair by\n",
       "20513                                                \n",
       "20636                              Trump all the way!\n",
       "Name: text, Length: 207, dtype: object"
      ]
     },
     "execution_count": 12,
     "metadata": {},
     "output_type": "execute_result"
    }
   ],
   "source": [
    "train['text'][train['length'] < 50]"
   ]
  },
  {
   "cell_type": "markdown",
   "id": "cbee3ce6",
   "metadata": {},
   "source": [
    "### Removing outliers, it will reduce overfitting"
   ]
  },
  {
   "cell_type": "code",
   "execution_count": 13,
   "id": "3168f756",
   "metadata": {},
   "outputs": [
    {
     "name": "stdout",
     "output_type": "stream",
     "text": [
      "Minimum Length:  50 \n",
      "Maximum Length:  142961 \n",
      "Average Length:  4598\n"
     ]
    }
   ],
   "source": [
    "train = train.drop(train['text'][train['length'] < 50].index, axis = 0)\n",
    "print('Minimum Length: ', min(train['length']), \n",
    "      '\\nMaximum Length: ', max(train['length']), \n",
    "      '\\nAverage Length: ', round(sum(train['length'])/len(train['length'])))"
   ]
  },
  {
   "cell_type": "markdown",
   "id": "1ab1ac9b",
   "metadata": {},
   "source": [
    "# Model Preparation"
   ]
  },
  {
   "cell_type": "code",
   "execution_count": 14,
   "id": "10ae8a23",
   "metadata": {},
   "outputs": [],
   "source": [
    "X = train['text']\n",
    "y = train['label']\n",
    "x_train, x_test, y_train, y_test = train_test_split(X, y, test_size = 0.2, random_state = 7)"
   ]
  },
  {
   "cell_type": "markdown",
   "id": "3a2060cb",
   "metadata": {},
   "source": [
    "### Max_df = 0.7 to remove words which occur more than 70% of documents."
   ]
  },
  {
   "cell_type": "code",
   "execution_count": 15,
   "id": "52944273",
   "metadata": {},
   "outputs": [],
   "source": [
    "#DataFlair - Initialize a TfidfVectorizer\n",
    "tfidf_vectorizer = TfidfVectorizer(stop_words = 'english', max_df = 0.7)\n",
    "\n",
    "#DataFlair - Fit and transform train set, transform test set\n",
    "tfidf_train = tfidf_vectorizer.fit_transform(x_train)\n",
    "tfidf_test = tfidf_vectorizer.transform(x_test)\n",
    "tfidf_test_final = tfidf_vectorizer.transform(test['text'])"
   ]
  },
  {
   "cell_type": "markdown",
   "id": "4bbf0b99",
   "metadata": {},
   "source": [
    "# Passive Aggressive Classifier\n",
    "\n",
    "Passive-Aggressive algorithms are generally used for large-scale learning. It is one of the few ‘online-learning algorithms‘. In online machine learning algorithms, the input data comes in sequential order and the machine learning model is updated step-by-step, as opposed to batch learning, where the entire training dataset is used at once. This is very useful in situations where there is a huge amount of data and it is computationally infeasible to train the entire dataset because of the sheer size of the data. We can simply say that an online-learning algorithm will get a training example, update the classifier, and then throw away the example.\n",
    "\n",
    "Passive-Aggressive algorithms are somewhat similar to a Perceptron model, in the sense that they do not require a learning rate. However, they do include a regularization parameter.\n",
    "\n",
    "## How Passive-Aggressive Algorithms Work:\n",
    "On-line algorithm: learn from massive streams of data.\n",
    "* get an example, update classifier, throw away example\n",
    "\n",
    "initialize w = (0,.....,0)  <br>\n",
    "monitor a stream: <br>\n",
    "    &nbsp;&nbsp;&nbsp;&nbsp;receive new doc d = ($d_{1}$....$d_{v}$) <br>\n",
    "    &nbsp;&nbsp;&nbsp;&nbsp;apply tf-idf, normalize ||d|| = 1 <br>\n",
    "    &nbsp;&nbsp;&nbsp;&nbsp;predict positive if $d^{T}$w > 0 <br>\n",
    "    &nbsp;&nbsp;&nbsp;&nbsp;observe true class: y = &pm;1 <br>\n",
    "    &nbsp;&nbsp;&nbsp;&nbsp;want to have: <br>\n",
    "        &nbsp;&nbsp;&nbsp;&nbsp;&nbsp;&nbsp;&nbsp;&nbsp;&nbsp;&nbsp;$d^{T}$w &ge; +1 if positive (y = +1) <br>\n",
    "        &nbsp;&nbsp;&nbsp;&nbsp;&nbsp;&nbsp;&nbsp;&nbsp;&nbsp;&nbsp;$d^{T}$w &le; -1 if positive (y = -1) <br>\n",
    "    &nbsp;&nbsp;&nbsp;&nbsp;same as: y($d^{T}$w) &ge; 1 <br>\n",
    "    &nbsp;&nbsp;&nbsp;&nbsp;loss: L = max(0, 1 - y($d^{T}$w)) <br>\n",
    "    &nbsp;&nbsp;&nbsp;&nbsp;update: $w_{new}$ = w + yLd <br>\n",
    "\n",
    "Passive-Aggressive algorithms are called so because :\n",
    "\n",
    "#### 1. Passive: If the prediction is correct, keep the model and do not make any changes. i.e., the data in the example is not enough to cause any changes in the model. \n",
    "&nbsp;&nbsp;&nbsp;&nbsp;&nbsp;&nbsp;&nbsp;&nbsp;&nbsp;&nbsp; - If $d^{T}$w is ok: do nothing <br>\n",
    "    \n",
    "#### 2. Aggressive: If the prediction is incorrect, make changes to the model. i.e., some change to the model may correct it.\n",
    "&nbsp;&nbsp;&nbsp;&nbsp;&nbsp;&nbsp;&nbsp;&nbsp;&nbsp;&nbsp; - $d^{T}$w fell short of y by L<br>\n",
    "&nbsp;&nbsp;&nbsp;&nbsp;&nbsp;&nbsp;&nbsp;&nbsp;&nbsp;&nbsp;   $d^{T}$$w_{new}$ = $d^{T}$(w + yLd)<br>\n",
    "&nbsp;&nbsp;&nbsp;&nbsp;&nbsp;&nbsp;&nbsp;&nbsp;&nbsp;&nbsp;                       = $d^{T}$w + yL$d^{T}$d<br>\n",
    "&nbsp;&nbsp;&nbsp;&nbsp;&nbsp;&nbsp;&nbsp;&nbsp;&nbsp;&nbsp;                       = $d^{T}$w + yL<br>\n",
    "&nbsp;&nbsp;&nbsp;&nbsp;&nbsp;&nbsp;&nbsp;&nbsp;&nbsp;&nbsp;                       = y<br>                     "
   ]
  },
  {
   "cell_type": "code",
   "execution_count": 16,
   "id": "6924c8fb",
   "metadata": {},
   "outputs": [
    {
     "name": "stdout",
     "output_type": "stream",
     "text": [
      "Accuracy: 96.08%\n"
     ]
    }
   ],
   "source": [
    "# Setting up Passive Aggressive Classifier\n",
    "pac = PassiveAggressiveClassifier(max_iter = 50)\n",
    "\n",
    "# Fitting on the training set\n",
    "pac.fit(tfidf_train, y_train)\n",
    "\n",
    "# Predicting on the test set\n",
    "y_pred = pac.predict(tfidf_test)\n",
    "score = accuracy_score(y_test, y_pred)\n",
    "print (f'Accuracy: {round(score * 100, 2)}%')"
   ]
  },
  {
   "cell_type": "code",
   "execution_count": 17,
   "id": "6a4d3341",
   "metadata": {},
   "outputs": [
    {
     "data": {
      "image/png": "[encoded data removed]",
      "text/plain": [
       "<Figure size 432x288 with 2 Axes>"
      ]
     },
     "metadata": {},
     "output_type": "display_data"
    },
    {
     "name": "stdout",
     "output_type": "stream",
     "text": [
      "\n",
      "Classification Report: \n",
      "               precision    recall  f1-score   support\n",
      "\n",
      "           0       0.96      0.96      0.96      2102\n",
      "           1       0.96      0.96      0.96      2009\n",
      "\n",
      "    accuracy                           0.96      4111\n",
      "   macro avg       0.96      0.96      0.96      4111\n",
      "weighted avg       0.96      0.96      0.96      4111\n",
      "\n"
     ]
    }
   ],
   "source": [
    "# Creating confusion matrix with columns as True Positive, False Negative, False Positive and True Negative \n",
    "cm = confusion_matrix(y_test, y_pred, labels=[0, 1])\n",
    "df_cm = pd.DataFrame(cm, range(2), range(2))\n",
    "sns.set(font_scale=1)\n",
    "sns.heatmap(df_cm, annot=True, annot_kws={'size':14}, fmt='d').set_title('Confusion Matrix')\n",
    "plt.show()\n",
    "\n",
    "# Creating classification report\n",
    "print('\\nClassification Report: \\n', classification_report(y_test, (y_pred > 0.5)))\n"
   ]
  },
  {
   "cell_type": "code",
   "execution_count": 18,
   "id": "89a7bd90",
   "metadata": {},
   "outputs": [],
   "source": [
    "# #Only for submission on kaggle. Please ignore.\n",
    "# test_pred = pac.predict(tfidf_test_final)\n",
    "\n",
    "# submission = pd.DataFrame({'id':test.index, 'label':test_pred})\n",
    "# print(submission.shape, submission.head())\n",
    "\n",
    "# submission.to_csv('submission.csv', index = False)"
   ]
  },
  {
   "cell_type": "code",
   "execution_count": null,
   "id": "c42777f8",
   "metadata": {},
   "outputs": [],
   "source": []
  }
 ],
 "metadata": {
  "kernelspec": {
   "display_name": "Python 3",
   "language": "python",
   "name": "python3"
  },
  "language_info": {
   "codemirror_mode": {
    "name": "ipython",
    "version": 3
   },
   "file_extension": ".py",
   "mimetype": "text/x-python",
   "name": "python",
   "nbconvert_exporter": "python",
   "pygments_lexer": "ipython3",
   "version": "3.8.8"
  }
 },
 "nbformat": 4,
 "nbformat_minor": 5
}
